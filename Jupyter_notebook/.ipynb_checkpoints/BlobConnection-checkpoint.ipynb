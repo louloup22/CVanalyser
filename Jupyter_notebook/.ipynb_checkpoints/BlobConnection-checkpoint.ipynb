{
 "cells": [
  {
   "cell_type": "markdown",
   "metadata": {},
   "source": [
    "# BlobConnection "
   ]
  },
  {
   "cell_type": "markdown",
   "metadata": {},
   "source": [
    "This script will be used to connect to the Blob storage where are store the resume word document as blob object. In Azure, I have created a storage account (I chose the blob storage account as I will only use blobs for the moment).\n",
    "\n",
    "After deploying the blob storage account louisepicstorage, a key will be generated and it will allow us to connect to the account with this notebook.\n",
    "\n",
    "Then, I created a container where I uploaded some resume in .docx format.\n",
    "The aim of this script is then to download the documents stored in the container and store then in a folder."
   ]
  },
  {
   "cell_type": "markdown",
   "metadata": {},
   "source": [
    "## I. Useful package and Blob Storage information"
   ]
  },
  {
   "cell_type": "markdown",
   "metadata": {},
   "source": [
    "Firt, we need to install some packages (use pip install if they are not yet installed in your Python)."
   ]
  },
  {
   "cell_type": "code",
   "execution_count": 7,
   "metadata": {
    "scrolled": false
   },
   "outputs": [],
   "source": [
    "from azure.storage.blob import BlockBlobService, PublicAccess\n",
    "import zipfile"
   ]
  },
  {
   "cell_type": "markdown",
   "metadata": {},
   "source": [
    "Provide the information of the blob storage account (name and key) and the container name."
   ]
  },
  {
   "cell_type": "code",
   "execution_count": 8,
   "metadata": {},
   "outputs": [],
   "source": [
    "blob_account_name = \"yourstoragename\"\n",
    "blob_account_key = \"TYPE YOUR KEY HERE\"\n",
    "mycontainer=\"yourcontainername\""
   ]
  },
  {
   "cell_type": "markdown",
   "metadata": {},
   "source": [
    "We create a BlockBlobService to call the Blob service in our storage account."
   ]
  },
  {
   "cell_type": "code",
   "execution_count": 9,
   "metadata": {},
   "outputs": [],
   "source": [
    "block_blob_service = BlockBlobService(account_name=blob_account_name,account_key=blob_account_key) "
   ]
  },
  {
   "cell_type": "markdown",
   "metadata": {},
   "source": [
    "## II. List blobs in the container"
   ]
  },
  {
   "cell_type": "markdown",
   "metadata": {},
   "source": [
    "Quick check of the blobs stored in the container"
   ]
  },
  {
   "cell_type": "code",
   "execution_count": 10,
   "metadata": {
    "scrolled": false
   },
   "outputs": [
    {
     "name": "stdout",
     "output_type": "stream",
     "text": [
      "\n",
      "List blobs in the container\n",
      "\t Blob name: 1805-TQL-CV-PastryChef.docx\n",
      "\t Blob name: CV-MathildeGABRIEL.docx\n",
      "\t Blob name: CV-RaphaëlSahakian-VE.docx\n",
      "\t Blob name: CVF&B.docx\n",
      "\t Blob name: CVanglo.docx\n",
      "\t Blob name: CVenanglais.docx\n",
      "\t Blob name: CVjanvierpierrick.docx\n",
      "\t Blob name: CV_Louise.docx\n",
      "\t Blob name: PaulMATHONCVinternship.docx\n",
      "\t Blob name: RESUMEALEX.docx\n",
      "\t Blob name: Resume2018XuanNamLE.docx\n",
      "\t Blob name: ResumeLucieProst2018SGP.docx\n",
      "\t Blob name: oussama-CVENG.docx\n"
     ]
    }
   ],
   "source": [
    "print(\"\\nList blobs in the container\")\n",
    "generator = block_blob_service.list_blobs(mycontainer)\n",
    "for blob in generator:\n",
    "    print(\"\\t Blob name: \" + blob.name.replace(\" \", \"\"))"
   ]
  },
  {
   "cell_type": "markdown",
   "metadata": {},
   "source": [
    "## III. Download blobs and the word documents"
   ]
  },
  {
   "cell_type": "markdown",
   "metadata": {},
   "source": [
    "We can download all the blobs from the container, and write these blobs in a zip file via get_blob_to_bytes.\n",
    "\n",
    "At the end it creates a resumeblob.zip that containes the word docx. We can then unzip the file to retrieve a folder Resumefromblob containing all the wordx documents."
   ]
  },
  {
   "cell_type": "code",
   "execution_count": 11,
   "metadata": {},
   "outputs": [],
   "source": [
    "zf = zipfile.ZipFile(mycontainer+'.zip', \n",
    "             mode='w',\n",
    "             compression=zipfile.ZIP_DEFLATED, \n",
    "             )\n",
    "\n",
    "for blob in generator:\n",
    "    b = block_blob_service.get_blob_to_bytes(mycontainer, blob.name)\n",
    "    zf.writestr(blob.name.replace(\" \", \"\"), b.content)\n",
    "zf.close()"
   ]
  },
  {
   "cell_type": "markdown",
   "metadata": {},
   "source": [
    "Unzip zipfile in a new folder Resumefromblob"
   ]
  },
  {
   "cell_type": "code",
   "execution_count": 12,
   "metadata": {},
   "outputs": [],
   "source": [
    "zip_ref = zipfile.ZipFile('resumeblob.zip', 'r')\n",
    "zip_ref.extractall('Resumefromblob')\n",
    "zip_ref.close()"
   ]
  },
  {
   "cell_type": "code",
   "execution_count": null,
   "metadata": {},
   "outputs": [],
   "source": []
  }
 ],
 "metadata": {
  "kernelspec": {
   "display_name": "Python 2",
   "language": "python",
   "name": "python2"
  },
  "language_info": {
   "codemirror_mode": {
    "name": "ipython",
    "version": 2
   },
   "file_extension": ".py",
   "mimetype": "text/x-python",
   "name": "python",
   "nbconvert_exporter": "python",
   "pygments_lexer": "ipython2",
   "version": "2.7.15"
  }
 },
 "nbformat": 4,
 "nbformat_minor": 2
}
